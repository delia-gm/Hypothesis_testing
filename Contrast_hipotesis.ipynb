{
 "cells": [
  {
   "cell_type": "markdown",
   "id": "f41831a2",
   "metadata": {},
   "source": [
    "# S07 T01: Tasca Tasca del test d'hipòtesis"
   ]
  },
  {
   "cell_type": "code",
   "execution_count": 2,
   "id": "439295d2",
   "metadata": {},
   "outputs": [],
   "source": [
    "import math\n",
    "\n",
    "import numpy as np\n",
    "from numpy import random\n",
    "import pandas as pd\n",
    "\n",
    "\n",
    "import matplotlib.pyplot as plt\n",
    "import seaborn as sns"
   ]
  },
  {
   "cell_type": "markdown",
   "id": "e827780f",
   "metadata": {},
   "source": [
    "### Exercici 1: Agafa un conjunt de dades de tema esportiu que t'agradi i selecciona un atribut del conjunt de dades. Calcula el p-valor i digues si rebutja la hipòtesi nul·la agafant un alfa de 5%. "
   ]
  },
  {
   "cell_type": "markdown",
   "id": "cb0e1d30",
   "metadata": {},
   "source": [
    "El dataset escollit és sobre els Jocs Olímpics de Tokyo 2020. S'hi pot veure el detall de totes les competicions que van tenir lloc, juntament amb l'edat, nacionalitat, classificació i medalles de cada atleta"
   ]
  },
  {
   "cell_type": "markdown",
   "id": "88edcf27",
   "metadata": {},
   "source": [
    "Columnes: \n",
    "- Unnamed: 0 : # de fila\n",
    "- Code: codi únic de cada atleta\n",
    "- Name: nom de l'atleta (COGNOM Nom)\n",
    "- Gender: Male o Female\n",
    "- Age: edat dels atletes\n",
    "- NOC: Comité Olímpic Nacional (206 en total)\n",
    "- Country: país (206 en total)\n",
    "- Discipline: cada codi indica una disciplina específica (46 en total)\n",
    "- Sport: esport equivalent al codi de la columna anterior (46 en total)\n",
    "- Event: tipus de competició (per equips, individual, masculina, femenina, etc.)\n",
    "- Rank: classificacio de cada 'Event', sent 1 la 1a posició.\n",
    "- Medal: medalla (Gold, Silver, Bronze o NaN)"
   ]
  },
  {
   "cell_type": "code",
   "execution_count": 156,
   "id": "82a42894",
   "metadata": {},
   "outputs": [
    {
     "name": "stderr",
     "output_type": "stream",
     "text": [
      "/var/folders/f1/1k69t1011n32zcq6vt7pt73c0000gn/T/ipykernel_988/3270594272.py:5: FutureWarning: In a future version of pandas all arguments of DataFrame.drop except for the argument 'labels' will be keyword-only\n",
      "  olympics = olympics.drop('Unnamed: 0', 1)\n",
      "/var/folders/f1/1k69t1011n32zcq6vt7pt73c0000gn/T/ipykernel_988/3270594272.py:6: FutureWarning: In a future version of pandas all arguments of DataFrame.drop except for the argument 'labels' will be keyword-only\n",
      "  olympics = olympics.drop('Code', 1) # la columna Name conté els mateixos unics valors que Code\n",
      "/var/folders/f1/1k69t1011n32zcq6vt7pt73c0000gn/T/ipykernel_988/3270594272.py:7: FutureWarning: In a future version of pandas all arguments of DataFrame.drop except for the argument 'labels' will be keyword-only\n",
      "  olympics = olympics.drop('NOC', 1) #la columna Country conté la mateixa informació de forma més clara\n",
      "/var/folders/f1/1k69t1011n32zcq6vt7pt73c0000gn/T/ipykernel_988/3270594272.py:8: FutureWarning: In a future version of pandas all arguments of DataFrame.drop except for the argument 'labels' will be keyword-only\n",
      "  olympics = olympics.drop('Discipline', 1) #la columna Sport conté la mateixa informació de forma més clara\n"
     ]
    },
    {
     "data": {
      "text/html": [
       "<div>\n",
       "<style scoped>\n",
       "    .dataframe tbody tr th:only-of-type {\n",
       "        vertical-align: middle;\n",
       "    }\n",
       "\n",
       "    .dataframe tbody tr th {\n",
       "        vertical-align: top;\n",
       "    }\n",
       "\n",
       "    .dataframe thead th {\n",
       "        text-align: right;\n",
       "    }\n",
       "</style>\n",
       "<table border=\"1\" class=\"dataframe\">\n",
       "  <thead>\n",
       "    <tr style=\"text-align: right;\">\n",
       "      <th></th>\n",
       "      <th>Name</th>\n",
       "      <th>Gender</th>\n",
       "      <th>Age</th>\n",
       "      <th>Country</th>\n",
       "      <th>Sport</th>\n",
       "      <th>Event</th>\n",
       "      <th>Rank</th>\n",
       "      <th>Medal</th>\n",
       "    </tr>\n",
       "  </thead>\n",
       "  <tbody>\n",
       "    <tr>\n",
       "      <th>10586</th>\n",
       "      <td>POLIDORI Erika</td>\n",
       "      <td>Female</td>\n",
       "      <td>29</td>\n",
       "      <td>Canada</td>\n",
       "      <td>Baseball/Softball</td>\n",
       "      <td>Softball Team</td>\n",
       "      <td>3.0</td>\n",
       "      <td>Bronze</td>\n",
       "    </tr>\n",
       "    <tr>\n",
       "      <th>12213</th>\n",
       "      <td>SIDLAUSKAS Andrius</td>\n",
       "      <td>Male</td>\n",
       "      <td>24</td>\n",
       "      <td>Lithuania</td>\n",
       "      <td>Swimming</td>\n",
       "      <td>Men's 200m Breaststroke</td>\n",
       "      <td>NaN</td>\n",
       "      <td>NaN</td>\n",
       "    </tr>\n",
       "    <tr>\n",
       "      <th>4773</th>\n",
       "      <td>GUAN Chenchen</td>\n",
       "      <td>Female</td>\n",
       "      <td>16</td>\n",
       "      <td>China</td>\n",
       "      <td>Artistic Gymnastics</td>\n",
       "      <td>Women's Balance Beam</td>\n",
       "      <td>1.0</td>\n",
       "      <td>Gold</td>\n",
       "    </tr>\n",
       "    <tr>\n",
       "      <th>4281</th>\n",
       "      <td>GASPAROTTO Marta</td>\n",
       "      <td>Female</td>\n",
       "      <td>24</td>\n",
       "      <td>Italy</td>\n",
       "      <td>Baseball/Softball</td>\n",
       "      <td>Softball Team</td>\n",
       "      <td>6.0</td>\n",
       "      <td>NaN</td>\n",
       "    </tr>\n",
       "    <tr>\n",
       "      <th>5478</th>\n",
       "      <td>HOSSEINI Mirhashem</td>\n",
       "      <td>Male</td>\n",
       "      <td>22</td>\n",
       "      <td>Iran</td>\n",
       "      <td>Taekwondo</td>\n",
       "      <td>Men -68kg</td>\n",
       "      <td>7.0</td>\n",
       "      <td>NaN</td>\n",
       "    </tr>\n",
       "  </tbody>\n",
       "</table>\n",
       "</div>"
      ],
      "text/plain": [
       "                     Name  Gender  Age    Country                Sport  \\\n",
       "10586      POLIDORI Erika  Female   29     Canada    Baseball/Softball   \n",
       "12213  SIDLAUSKAS Andrius    Male   24  Lithuania             Swimming   \n",
       "4773        GUAN Chenchen  Female   16      China  Artistic Gymnastics   \n",
       "4281     GASPAROTTO Marta  Female   24      Italy    Baseball/Softball   \n",
       "5478   HOSSEINI Mirhashem    Male   22       Iran            Taekwondo   \n",
       "\n",
       "                         Event  Rank   Medal  \n",
       "10586            Softball Team   3.0  Bronze  \n",
       "12213  Men's 200m Breaststroke   NaN     NaN  \n",
       "4773      Women's Balance Beam   1.0    Gold  \n",
       "4281             Softball Team   6.0     NaN  \n",
       "5478                 Men -68kg   7.0     NaN  "
      ]
     },
     "execution_count": 156,
     "metadata": {},
     "output_type": "execute_result"
    }
   ],
   "source": [
    "# Carreguem el dataset i eliminem columnes que no volem:\n",
    "\n",
    "olympics = pd.read_csv('/Users/deliagonzalezmata/Downloads/2020_Olympics_Dataset.csv', encoding = 'latin-1')\n",
    "\n",
    "olympics = olympics.drop('Unnamed: 0', 1)\n",
    "olympics = olympics.drop('Code', 1) # la columna Name conté els mateixos unics valors que Code\n",
    "olympics = olympics.drop('NOC', 1) #la columna Country conté la mateixa informació de forma més clara\n",
    "olympics = olympics.drop('Discipline', 1) #la columna Sport conté la mateixa informació de forma més clara\n",
    "\n",
    "olympics.sample(5)"
   ]
  },
  {
   "cell_type": "code",
   "execution_count": 177,
   "id": "39c2b865",
   "metadata": {},
   "outputs": [
    {
     "data": {
      "text/plain": [
       "(15121, 8)"
      ]
     },
     "execution_count": 177,
     "metadata": {},
     "output_type": "execute_result"
    }
   ],
   "source": [
    "olympics.shape"
   ]
  },
  {
   "cell_type": "code",
   "execution_count": 3,
   "id": "9ba7b195",
   "metadata": {},
   "outputs": [
    {
     "name": "stdout",
     "output_type": "stream",
     "text": [
      "<class 'pandas.core.frame.DataFrame'>\n",
      "RangeIndex: 15121 entries, 0 to 15120\n",
      "Data columns (total 8 columns):\n",
      " #   Column   Non-Null Count  Dtype  \n",
      "---  ------   --------------  -----  \n",
      " 0   Name     15121 non-null  object \n",
      " 1   Gender   15121 non-null  object \n",
      " 2   Age      15121 non-null  int64  \n",
      " 3   Country  15121 non-null  object \n",
      " 4   Sport    15121 non-null  object \n",
      " 5   Event    15121 non-null  object \n",
      " 6   Rank     11355 non-null  float64\n",
      " 7   Medal    2449 non-null   object \n",
      "dtypes: float64(1), int64(1), object(6)\n",
      "memory usage: 945.2+ KB\n"
     ]
    }
   ],
   "source": [
    "olympics.info()"
   ]
  },
  {
   "cell_type": "markdown",
   "id": "0f1d99a6",
   "metadata": {},
   "source": [
    "L'atribut escollit per realitzar el contrast d'hipòtesis és l'edat (columna Age).\n",
    "\n",
    "Primer, definim les hipòtesis:\n",
    "\n",
    "- **Hipòtesis nul·la (Ho)**: la mitjana d'edat dels atletes és de 26 anys.\n",
    "- **Hipòtesis alternativa (Ha)**: la mitjana d'edat dels atletes NO és de 26 anys. \n",
    "\n",
    "l'alfa està fixada al 5%"
   ]
  },
  {
   "cell_type": "code",
   "execution_count": 131,
   "id": "35d12bb0",
   "metadata": {},
   "outputs": [],
   "source": [
    "alpha = 0.05"
   ]
  },
  {
   "cell_type": "markdown",
   "id": "c56534ea",
   "metadata": {},
   "source": [
    "Per a fer el contrast d'hipòtesis utilitzarem un **One Sample T-test**."
   ]
  },
  {
   "cell_type": "code",
   "execution_count": 136,
   "id": "e36191dc",
   "metadata": {},
   "outputs": [
    {
     "name": "stdout",
     "output_type": "stream",
     "text": [
      "t-stat=16.777, p-value=0.000 \n",
      "\n",
      "La mitjana d'edat dels atletes NO és de 26 anys\n"
     ]
    }
   ],
   "source": [
    "from scipy.stats import ttest_1samp\n",
    "\n",
    "stat, p = ttest_1samp(olympics.Age, 26)\n",
    "print('t-stat=%.3f, p-value=%.3f \\n' % (stat, p))\n",
    "\n",
    "if p > alpha:\n",
    "    print('La mitjana d\\'edat dels atletes és de 26 anys')\n",
    "else:\n",
    "    print('La mitjana d\\'edat dels atletes NO és de 26 anys')"
   ]
  },
  {
   "cell_type": "markdown",
   "id": "04811c18",
   "metadata": {},
   "source": [
    "Com que alpha (0,05) és major que el p-value (0,00), **rebutgem la hipòtessis nul·la.**\n",
    "\n",
    "Comprovem que, efectivament, la mitjana d'edat difereix de 26:"
   ]
  },
  {
   "cell_type": "code",
   "execution_count": 325,
   "id": "960270ba",
   "metadata": {},
   "outputs": [
    {
     "data": {
      "text/plain": [
       "count    15121.00\n",
       "mean        26.77\n",
       "std          5.61\n",
       "min         12.00\n",
       "25%         23.00\n",
       "50%         26.00\n",
       "75%         30.00\n",
       "max         66.00\n",
       "Name: Age, dtype: float64"
      ]
     },
     "execution_count": 325,
     "metadata": {},
     "output_type": "execute_result"
    }
   ],
   "source": [
    "round(olympics.Age.describe(), 2)"
   ]
  },
  {
   "cell_type": "code",
   "execution_count": 138,
   "id": "c01c87fa",
   "metadata": {},
   "outputs": [
    {
     "data": {
      "image/png": "[encoded data removed]",
      "text/plain": [
       "<Figure size 720x432 with 1 Axes>"
      ]
     },
     "metadata": {},
     "output_type": "display_data"
    }
   ],
   "source": [
    "fig, ax = plt.subplots(figsize = (10, 6))\n",
    "sns.set(style=\"darkgrid\")\n",
    "\n",
    "sns.histplot(data=olympics, x=\"Age\", bins = 30, color = 'darkgreen', alpha=0.5)\n",
    "plt.xlim(11,50)\n",
    "ax.axvline(int(olympics.Age.mean()), color=\"darkgreen\", ls=\"-.\", label=\"mean\")\n",
    "ax.legend()\n",
    "\n",
    "plt.show()"
   ]
  },
  {
   "cell_type": "markdown",
   "id": "fd38edaa",
   "metadata": {},
   "source": [
    "### Exercici 2: Continua amb el conjunt de dades de tema esportiu que t'agradi i selecciona dos altres atributs del conjunt de dades. Calcula els p-valors i digues si rebutgen la hipòtesi nul·la agafant un alfa de 5%. "
   ]
  },
  {
   "cell_type": "markdown",
   "id": "b4ff1d1f",
   "metadata": {},
   "source": [
    "Els dos atributs que seleccionarem serà l'edat dels homes i l'edat de les dones. "
   ]
  },
  {
   "cell_type": "markdown",
   "id": "d8d13a81",
   "metadata": {},
   "source": [
    "Primer, definim les hipòtesis:\n",
    "\n",
    "- **Hipòtesis nul·la (Ho)**: la mitjana d'edat entre homes i dones és la mateixa.\n",
    "- **Hipòtesis alternativa (Ha)**: la mitjana d'edat entre homes i dones NO és la mateixa. \n",
    "\n",
    "l'alfa està fixada al 5%"
   ]
  },
  {
   "cell_type": "code",
   "execution_count": 141,
   "id": "1fb1b61c",
   "metadata": {},
   "outputs": [],
   "source": [
    "alpha = 0.05\n",
    "\n",
    "women = olympics[olympics.Gender == 'Female']\n",
    "men = olympics[olympics.Gender == 'Male']"
   ]
  },
  {
   "cell_type": "markdown",
   "id": "018fe833",
   "metadata": {},
   "source": [
    "Per a fer el contrast d'hipòtesis utilitzarem un **Two Sample T-test**."
   ]
  },
  {
   "cell_type": "code",
   "execution_count": 142,
   "id": "cf854e8b",
   "metadata": {},
   "outputs": [
    {
     "name": "stdout",
     "output_type": "stream",
     "text": [
      "t-stat=-11.442, p-value=0.000 \n",
      "\n",
      "Probablement diferent mitjana d'edat segons gènere\n"
     ]
    }
   ],
   "source": [
    "from scipy.stats import ttest_ind\n",
    "\n",
    "stat, p = ttest_ind(women.Age, men.Age)\n",
    "print('t-stat=%.3f, p-value=%.3f \\n' % (stat, p))\n",
    "\n",
    "if p > alpha:\n",
    "    print('Probablement la mateixa mitjana en ambdós gèneres')\n",
    "else:\n",
    "    print('Probablement diferent mitjana d\\'edat segons gènere')"
   ]
  },
  {
   "cell_type": "markdown",
   "id": "e9ea6cca",
   "metadata": {},
   "source": [
    "Com que alpha (0,05) és major que el p-value (0,00), **rebutgem la hipòtessis nul·la.**\n",
    "Això significa que hi ha evidència suficent que mostra que la mitjana d'edat dels atletes homes és diferent de la mitjana d'edat de les atletes dona. "
   ]
  },
  {
   "cell_type": "markdown",
   "id": "a382bd09",
   "metadata": {},
   "source": [
    "Comprovem que les mitjanes son, efectivament, diferents:"
   ]
  },
  {
   "cell_type": "code",
   "execution_count": 143,
   "id": "5c5fcd5e",
   "metadata": {},
   "outputs": [
    {
     "data": {
      "text/plain": [
       "count    7266.00\n",
       "mean       26.22\n",
       "std         5.50\n",
       "min        12.00\n",
       "25%        22.00\n",
       "50%        26.00\n",
       "75%        29.00\n",
       "max        66.00\n",
       "Name: Age, dtype: float64"
      ]
     },
     "execution_count": 143,
     "metadata": {},
     "output_type": "execute_result"
    }
   ],
   "source": [
    "round(women.Age.describe(), 2)"
   ]
  },
  {
   "cell_type": "code",
   "execution_count": 144,
   "id": "c514ce6f",
   "metadata": {},
   "outputs": [
    {
     "data": {
      "text/plain": [
       "count    7855.00\n",
       "mean       27.27\n",
       "std         5.66\n",
       "min        14.00\n",
       "25%        23.00\n",
       "50%        26.00\n",
       "75%        30.00\n",
       "max        62.00\n",
       "Name: Age, dtype: float64"
      ]
     },
     "execution_count": 144,
     "metadata": {},
     "output_type": "execute_result"
    }
   ],
   "source": [
    "round(men.Age.describe(), 2)"
   ]
  },
  {
   "cell_type": "code",
   "execution_count": 109,
   "id": "499b4463",
   "metadata": {},
   "outputs": [
    {
     "data": {
      "image/png": "[encoded data removed]",
      "text/plain": [
       "<Figure size 576x432 with 1 Axes>"
      ]
     },
     "metadata": {},
     "output_type": "display_data"
    }
   ],
   "source": [
    "fig, ax = plt.subplots(figsize = (8,6))\n",
    "\n",
    "plt.hist(women.Age, bins=20, color='salmon', edgecolor = 'k', alpha=0.5, label = 'women')\n",
    "plt.hist(men.Age, bins=20, color='blue', edgecolor = 'k', alpha=0.5, label = 'men')\n",
    "\n",
    "ax.axvline(int(women.Age.mean()), color=\"darksalmon\", ls=\"-.\", label=\"mean\")\n",
    "ax.axvline(int(men.Age.mean()), color=\"darkblue\", ls=\"-.\", label=\"mean\")\n",
    "\n",
    "plt.title ('Distribució de l\\'edat dels atletes per gènere i les seves mitjanes')\n",
    "ax.legend();"
   ]
  },
  {
   "cell_type": "markdown",
   "id": "785af6e7",
   "metadata": {},
   "source": [
    "### Exercici 3: Continua amb el conjunt de dades de tema esportiu que t'agradi i selecciona tres atributs del conjunt de dades. Calcula el p-valor i digues si rebutja la hipòtesi nul·la agafant un alfa de 5%."
   ]
  },
  {
   "cell_type": "markdown",
   "id": "35074a17",
   "metadata": {},
   "source": [
    "Els tres atributs del conjunt que hem seleccionat per al contrast d'hipòtesis son: \n",
    "- edat dels atletes provinents dels Estats Units\n",
    "- edat dels atletes provinents de la Xina\n",
    "- edat dels atletes provinents d'Espanya\n",
    "\n",
    "Estudiarem si existeix una variació significativa entre aquestos 3 països en termes de l'edat dels seus participants als JJ.OO. "
   ]
  },
  {
   "cell_type": "markdown",
   "id": "f3b73a63",
   "metadata": {},
   "source": [
    "Primer, definim les hipòtesis:\n",
    "\n",
    "- **Hipòtesis nul·la (Ho)**: la mitjana d'edat entre els atletes dels 3 països és la mateixa.\n",
    "- **Hipòtesis alternativa (Ha)**: la mitjana d'edat els atletes dels 3 països NO és la mateixa. \n",
    "\n",
    "l'alfa està fixada al 5%"
   ]
  },
  {
   "cell_type": "code",
   "execution_count": null,
   "id": "08651947",
   "metadata": {},
   "outputs": [],
   "source": [
    "alpha = 0.05"
   ]
  },
  {
   "cell_type": "code",
   "execution_count": 157,
   "id": "880aec32",
   "metadata": {},
   "outputs": [],
   "source": [
    "USA = olympics[olympics.Country =='United States']\n",
    "China = olympics[olympics.Country =='China']\n",
    "Spain = olympics[olympics.Country =='Spain']"
   ]
  },
  {
   "cell_type": "markdown",
   "id": "c85f1d8d",
   "metadata": {},
   "source": [
    "Per a fer el contrast d'hipòtesis utilitzarem el **one-way ANOVA**, que s'utilitza per determinar si hi ha una diferencia estadísticament significativa entre la mitjana aritmètica dels 3 grups o no. "
   ]
  },
  {
   "cell_type": "code",
   "execution_count": 175,
   "id": "a4709bd4",
   "metadata": {},
   "outputs": [
    {
     "name": "stdout",
     "output_type": "stream",
     "text": [
      "t-stat=26.134, p-value=0.000 \n",
      "\n",
      "la mitjana d'edat entre els atletes dels 3 països NO és la mateixa\n"
     ]
    }
   ],
   "source": [
    "from scipy.stats import f_oneway\n",
    "\n",
    "#perform one-way ANOVA\n",
    "stat, p = f_oneway(USA.Age, China.Age, Spain.Age)\n",
    "print('t-stat=%.3f, p-value=%.3f \\n' % (stat, p))\n",
    "\n",
    "if p > alpha:\n",
    "    print('la mitjana d\\'edat entre els atletes dels 3 països és la mateixa')\n",
    "else:\n",
    "    print('la mitjana d\\'edat entre els atletes dels 3 països NO és la mateixa')"
   ]
  },
  {
   "cell_type": "markdown",
   "id": "64bb77ee",
   "metadata": {},
   "source": [
    "Com que alpha (0,05) és major que el p-value (0,00), **rebutgem la hipòtessis nul·la**.\n",
    "\n",
    "\n",
    "comprovem que, efectivament les mitjanes d'edat entre els 3 països son diferents:"
   ]
  },
  {
   "cell_type": "code",
   "execution_count": 161,
   "id": "f407b83c",
   "metadata": {},
   "outputs": [
    {
     "data": {
      "text/plain": [
       "count    856.00\n",
       "mean      26.87\n",
       "std        6.07\n",
       "min       15.00\n",
       "25%       23.00\n",
       "50%       26.00\n",
       "75%       30.00\n",
       "max       57.00\n",
       "Name: Age, dtype: float64"
      ]
     },
     "execution_count": 161,
     "metadata": {},
     "output_type": "execute_result"
    }
   ],
   "source": [
    "round(USA.Age.describe(), 2)"
   ]
  },
  {
   "cell_type": "code",
   "execution_count": 162,
   "id": "56fad104",
   "metadata": {},
   "outputs": [
    {
     "data": {
      "text/plain": [
       "count    574.00\n",
       "mean      25.10\n",
       "std        4.52\n",
       "min       14.00\n",
       "25%       23.00\n",
       "50%       25.00\n",
       "75%       28.00\n",
       "max       53.00\n",
       "Name: Age, dtype: float64"
      ]
     },
     "execution_count": 162,
     "metadata": {},
     "output_type": "execute_result"
    }
   ],
   "source": [
    "round(China.Age.describe(), 2)"
   ]
  },
  {
   "cell_type": "code",
   "execution_count": 163,
   "id": "d920c313",
   "metadata": {},
   "outputs": [
    {
     "data": {
      "text/plain": [
       "count    429.00\n",
       "mean      27.48\n",
       "std        5.99\n",
       "min       16.00\n",
       "25%       23.00\n",
       "50%       27.00\n",
       "75%       31.00\n",
       "max       55.00\n",
       "Name: Age, dtype: float64"
      ]
     },
     "execution_count": 163,
     "metadata": {},
     "output_type": "execute_result"
    }
   ],
   "source": [
    "round(Spain.Age.describe(), 2)"
   ]
  },
  {
   "cell_type": "code",
   "execution_count": 179,
   "id": "8f23eecb",
   "metadata": {},
   "outputs": [
    {
     "data": {
      "image/png": "[encoded data removed]",
      "text/plain": [
       "<Figure size 576x432 with 1 Axes>"
      ]
     },
     "metadata": {},
     "output_type": "display_data"
    }
   ],
   "source": [
    "fig, ax = plt.subplots(figsize = (8,6))\n",
    "\n",
    "plt.hist(USA.Age, bins=20, color='blue', edgecolor = 'k', alpha=0.5, label = 'USA')\n",
    "plt.hist(China.Age, bins=20, color='red', edgecolor = 'k', alpha=0.5, label = 'China')\n",
    "plt.hist(Spain.Age, bins=20, color='yellow', edgecolor = 'k', alpha=0.5, label = 'Spain')\n",
    "\n",
    "ax.axvline(int(USA.Age.mean()), color=\"darkblue\", ls=\"-.\", label=\"mean\")\n",
    "ax.axvline(int(China.Age.mean()), color=\"darkred\", ls=\"-.\", label=\"mean\")\n",
    "ax.axvline(int(Spain.Age.mean()), color=\"yellow\", ls=\"-.\", label=\"mean\")\n",
    "\n",
    "plt.title ('Distribució de l\\'edat dels atletes entre EE.UU., la Xina i Espanya')\n",
    "ax.legend();"
   ]
  }
 ],
 "metadata": {
  "kernelspec": {
   "display_name": "Python 3 (ipykernel)",
   "language": "python",
   "name": "python3"
  },
  "language_info": {
   "codemirror_mode": {
    "name": "ipython",
    "version": 3
   },
   "file_extension": ".py",
   "mimetype": "text/x-python",
   "name": "python",
   "nbconvert_exporter": "python",
   "pygments_lexer": "ipython3",
   "version": "3.8.11"
  },
  "latex_envs": {
   "LaTeX_envs_menu_present": true,
   "autoclose": false,
   "autocomplete": true,
   "bibliofile": "biblio.bib",
   "cite_by": "apalike",
   "current_citInitial": 1,
   "eqLabelWithNumbers": true,
   "eqNumInitial": 1,
   "hotkeys": {
    "equation": "Ctrl-E",
    "itemize": "Ctrl-I"
   },
   "labels_anchors": false,
   "latex_user_defs": false,
   "report_style_numbering": false,
   "user_envs_cfg": false
  }
 },
 "nbformat": 4,
 "nbformat_minor": 5
}
